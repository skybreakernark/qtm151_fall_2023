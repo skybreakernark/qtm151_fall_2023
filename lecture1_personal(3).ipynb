{
  "nbformat": 4,
  "nbformat_minor": 0,
  "metadata": {
    "colab": {
      "provenance": []
    },
    "kernelspec": {
      "name": "python3",
      "display_name": "Python 3"
    },
    "language_info": {
      "name": "python"
    }
  },
  "cells": [
    {
      "cell_type": "code",
      "execution_count": 5,
      "metadata": {
        "colab": {
          "base_uri": "https://localhost:8080/"
        },
        "id": "WJNn7wxInv0i",
        "outputId": "85905efe-472e-4c1a-800b-74dd6ebefc02"
      },
      "outputs": [
        {
          "output_type": "stream",
          "name": "stdout",
          "text": [
            "Hello World\n",
            "#This is my first Jupyter notebook\n"
          ]
        }
      ],
      "source": []
    },
    {
      "cell_type": "markdown",
      "source": [
        "#This is my first Jupyter notebook"
      ],
      "metadata": {
        "id": "7VeO6JoTpdM7"
      }
    },
    {
      "cell_type": "code",
      "source": [
        "print(\"My name is Shawn Chen\")\n",
        "print(\"Hello World\")\n",
        "print(\"#This is my first Jupyter notebook\")"
      ],
      "metadata": {
        "colab": {
          "base_uri": "https://localhost:8080/"
        },
        "id": "EUJOnpcxoRMJ",
        "outputId": "d01e520a-285d-41cb-d33f-68c1ce267d0e"
      },
      "execution_count": 6,
      "outputs": [
        {
          "output_type": "stream",
          "name": "stdout",
          "text": [
            "My name is Shawn Chen\n",
            "Hello World\n",
            "#This is my first Jupyter notebook\n"
          ]
        }
      ]
    },
    {
      "cell_type": "code",
      "source": [
        "!jupyter nbconvert --execute --to html \"lecture1_personal.ipynb\""
      ],
      "metadata": {
        "colab": {
          "base_uri": "https://localhost:8080/"
        },
        "id": "-xYQCm0VqGZG",
        "outputId": "d63f347b-e894-472c-b81d-8d91b27e7099"
      },
      "execution_count": 7,
      "outputs": [
        {
          "output_type": "stream",
          "name": "stdout",
          "text": [
            "/bin/bash: line 1: convert: command not found\n"
          ]
        }
      ]
    },
    {
      "cell_type": "markdown",
      "source": [
        "This is a mark down"
      ],
      "metadata": {
        "id": "Y26VfAXOoTYY"
      }
    }
  ]
}